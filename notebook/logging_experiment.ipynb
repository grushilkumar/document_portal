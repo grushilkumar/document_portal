{
 "cells": [
  {
   "cell_type": "code",
   "execution_count": 2,
   "id": "a29cd7ba",
   "metadata": {},
   "outputs": [],
   "source": [
    "import logging\n",
    "import os\n",
    "from datetime import datetime\n",
    "\n"
   ]
  },
  {
   "cell_type": "code",
   "execution_count": 4,
   "id": "c71de0b3",
   "metadata": {},
   "outputs": [],
   "source": [
    "logs_dir = os.path.join(os.getcwd(), 'logs')"
   ]
  },
  {
   "cell_type": "code",
   "execution_count": 5,
   "id": "653c7c75",
   "metadata": {},
   "outputs": [],
   "source": [
    "os.makedirs(logs_dir, exist_ok=True)"
   ]
  },
  {
   "cell_type": "code",
   "execution_count": 6,
   "id": "3e567e46",
   "metadata": {},
   "outputs": [
    {
     "data": {
      "text/plain": [
       "'07-26-2025_14-42-39.log'"
      ]
     },
     "execution_count": 6,
     "metadata": {},
     "output_type": "execute_result"
    }
   ],
   "source": [
    "LOG_FILE = f\"{datetime.now().strftime('%m-%d-%Y_%H-%M-%S')}.log\" \n",
    "LOG_FILE"
   ]
  },
  {
   "cell_type": "code",
   "execution_count": 8,
   "id": "fa7e90af",
   "metadata": {},
   "outputs": [],
   "source": [
    "LOG_FILE_PATH =os.path.join(logs_dir, LOG_FILE)"
   ]
  },
  {
   "cell_type": "code",
   "execution_count": 9,
   "id": "df56e000",
   "metadata": {},
   "outputs": [],
   "source": [
    "logging.basicConfig(\n",
    "    filename=LOG_FILE_PATH,\n",
    "    level=logging.INFO,\n",
    "    format='[ %(asctime)s ]- %(levelname)s %(name)s (line:%(lineno)d) - %(message)s',\n",
    ")"
   ]
  },
  {
   "cell_type": "code",
   "execution_count": 10,
   "id": "79c50878",
   "metadata": {},
   "outputs": [],
   "source": [
    "logger = logging.getLogger(\"DocumentPortal\")"
   ]
  },
  {
   "cell_type": "code",
   "execution_count": 11,
   "id": "ce110cbd",
   "metadata": {},
   "outputs": [],
   "source": [
    "logger.info(\"This is an info message\")"
   ]
  }
 ],
 "metadata": {
  "kernelspec": {
   "display_name": "env",
   "language": "python",
   "name": "python3"
  },
  "language_info": {
   "codemirror_mode": {
    "name": "ipython",
    "version": 3
   },
   "file_extension": ".py",
   "mimetype": "text/x-python",
   "name": "python",
   "nbconvert_exporter": "python",
   "pygments_lexer": "ipython3",
   "version": "3.10.18"
  }
 },
 "nbformat": 4,
 "nbformat_minor": 5
}
